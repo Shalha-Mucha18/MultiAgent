{
 "cells": [
  {
   "cell_type": "markdown",
   "metadata": {},
   "source": [
    "You can download the `requirements.txt` for this course from the workspace of this lab. `File --> Open...`"
   ]
  },
  {
   "cell_type": "markdown",
   "metadata": {},
   "source": [
    "# L2: Create Agents to Research and Write an Article\n",
    "\n",
    "In this lesson, you will be introduced to the foundational concepts of multi-agent systems and get an overview of the crewAI framework."
   ]
  },
  {
   "cell_type": "markdown",
   "metadata": {},
   "source": [
    "The libraries are already installed in the classroom. If you're running this notebook on your own machine, you can install the following:\n",
    "```Python\n",
    "!pip install crewai==0.28.8 crewai_tools==0.1.6 langchain_community==0.0.29\n",
    "```"
   ]
  },
  {
   "cell_type": "code",
   "execution_count": 1,
   "metadata": {
    "height": 64
   },
   "outputs": [],
   "source": [
    "# Warning control\n",
    "import warnings\n",
    "warnings.filterwarnings('ignore')"
   ]
  },
  {
   "cell_type": "markdown",
   "metadata": {},
   "source": [
    "- Import from the crewAI libray."
   ]
  },
  {
   "cell_type": "code",
   "execution_count": 2,
   "metadata": {
    "height": 30
   },
   "outputs": [],
   "source": [
    "from crewai import Agent, Task, Crew"
   ]
  },
  {
   "cell_type": "markdown",
   "metadata": {},
   "source": [
    "- As a LLM for your agents, you'll be using OpenAI's `gpt-3.5-turbo`.\n",
    "\n",
    "**Optional Note:** crewAI also allow other popular models to be used as a LLM for your Agents. You can see some of the examples at the [bottom of the notebook](#1)."
   ]
  },
  {
   "cell_type": "code",
   "execution_count": 3,
   "metadata": {
    "height": 98
   },
   "outputs": [],
   "source": [
    "import os\n",
    "from utils import get_openai_api_key\n",
    "\n",
    "openai_api_key = get_openai_api_key()\n",
    "os.environ[\"OPENAI_MODEL_NAME\"] = 'gpt-3.5-turbo'"
   ]
  },
  {
   "cell_type": "markdown",
   "metadata": {},
   "source": [
    "## Creating Agents\n",
    "\n",
    "- Define your Agents, and provide them a `role`, `goal` and `backstory`.\n",
    "- It has been seen that LLMs perform better when they are role playing."
   ]
  },
  {
   "cell_type": "markdown",
   "metadata": {},
   "source": [
    "### Agent: Planner\n",
    "\n",
    "**Note**: The benefit of using _multiple strings_ :\n",
    "```Python\n",
    "varname = \"line 1 of text\"\n",
    "          \"line 2 of text\"\n",
    "```\n",
    "\n",
    "versus the _triple quote docstring_:\n",
    "```Python\n",
    "varname = \"\"\"line 1 of text\n",
    "             line 2 of text\n",
    "          \"\"\"\n",
    "```\n",
    "is that it can avoid adding those whitespaces and newline characters, making it better formatted to be passed to the LLM."
   ]
  },
  {
   "cell_type": "code",
   "execution_count": 4,
   "metadata": {
    "height": 234
   },
   "outputs": [],
   "source": [
    "planner = Agent(\n",
    "    role=\"Content Planner\",\n",
    "    goal=\"Plan engaging and factually accurate content on {topic}\",\n",
    "    backstory=\"You're working on planning a blog article \"\n",
    "              \"about the topic: {topic}.\"\n",
    "              \"You collect information that helps the \"\n",
    "              \"audience learn something \"\n",
    "              \"and make informed decisions. \"\n",
    "              \"Your work is the basis for \"\n",
    "              \"the Content Writer to write an article on this topic.\",\n",
    "    allow_delegation=False,\n",
    "\tverbose=True\n",
    ")"
   ]
  },
  {
   "cell_type": "markdown",
   "metadata": {},
   "source": [
    "### Agent: Writer"
   ]
  },
  {
   "cell_type": "code",
   "execution_count": 5,
   "metadata": {
    "height": 370
   },
   "outputs": [],
   "source": [
    "writer = Agent(\n",
    "    role=\"Content Writer\",\n",
    "    goal=\"Write insightful and factually accurate \"\n",
    "         \"opinion piece about the topic: {topic}\",\n",
    "    backstory=\"You're working on a writing \"\n",
    "              \"a new opinion piece about the topic: {topic}. \"\n",
    "              \"You base your writing on the work of \"\n",
    "              \"the Content Planner, who provides an outline \"\n",
    "              \"and relevant context about the topic. \"\n",
    "              \"You follow the main objectives and \"\n",
    "              \"direction of the outline, \"\n",
    "              \"as provide by the Content Planner. \"\n",
    "              \"You also provide objective and impartial insights \"\n",
    "              \"and back them up with information \"\n",
    "              \"provide by the Content Planner. \"\n",
    "              \"You acknowledge in your opinion piece \"\n",
    "              \"when your statements are opinions \"\n",
    "              \"as opposed to objective statements.\",\n",
    "    allow_delegation=False,\n",
    "    verbose=True\n",
    ")"
   ]
  },
  {
   "cell_type": "markdown",
   "metadata": {},
   "source": [
    "### Agent: Editor"
   ]
  },
  {
   "cell_type": "code",
   "execution_count": 6,
   "metadata": {
    "height": 268
   },
   "outputs": [],
   "source": [
    "editor = Agent(\n",
    "    role=\"Editor\",\n",
    "    goal=\"Edit a given blog post to align with \"\n",
    "         \"the writing style of the organization. \",\n",
    "    backstory=\"You are an editor who receives a blog post \"\n",
    "              \"from the Content Writer. \"\n",
    "              \"Your goal is to review the blog post \"\n",
    "              \"to ensure that it follows journalistic best practices,\"\n",
    "              \"provides balanced viewpoints \"\n",
    "              \"when providing opinions or assertions, \"\n",
    "              \"and also avoids major controversial topics \"\n",
    "              \"or opinions when possible.\",\n",
    "    allow_delegation=False,\n",
    "    verbose=True\n",
    ")"
   ]
  },
  {
   "cell_type": "markdown",
   "metadata": {},
   "source": [
    "## Creating Tasks\n",
    "\n",
    "- Define your Tasks, and provide them a `description`, `expected_output` and `agent`."
   ]
  },
  {
   "cell_type": "markdown",
   "metadata": {},
   "source": [
    "### Task: Plan"
   ]
  },
  {
   "cell_type": "code",
   "execution_count": 7,
   "metadata": {
    "height": 268
   },
   "outputs": [],
   "source": [
    "plan = Task(\n",
    "    description=(\n",
    "        \"1. Prioritize the latest trends, key players, \"\n",
    "            \"and noteworthy news on {topic}.\\n\"\n",
    "        \"2. Identify the target audience, considering \"\n",
    "            \"their interests and pain points.\\n\"\n",
    "        \"3. Develop a detailed content outline including \"\n",
    "            \"an introduction, key points, and a call to action.\\n\"\n",
    "        \"4. Include SEO keywords and relevant data or sources.\"\n",
    "    ),\n",
    "    expected_output=\"A comprehensive content plan document \"\n",
    "        \"with an outline, audience analysis, \"\n",
    "        \"SEO keywords, and resources.\",\n",
    "    agent=planner,\n",
    ")"
   ]
  },
  {
   "cell_type": "markdown",
   "metadata": {},
   "source": [
    "### Task: Write"
   ]
  },
  {
   "cell_type": "code",
   "execution_count": 8,
   "metadata": {
    "height": 319
   },
   "outputs": [],
   "source": [
    "write = Task(\n",
    "    description=(\n",
    "        \"1. Use the content plan to craft a compelling \"\n",
    "            \"blog post on {topic}.\\n\"\n",
    "        \"2. Incorporate SEO keywords naturally.\\n\"\n",
    "\t\t\"3. Sections/Subtitles are properly named \"\n",
    "            \"in an engaging manner.\\n\"\n",
    "        \"4. Ensure the post is structured with an \"\n",
    "            \"engaging introduction, insightful body, \"\n",
    "            \"and a summarizing conclusion.\\n\"\n",
    "        \"5. Proofread for grammatical errors and \"\n",
    "            \"alignment with the brand's voice.\\n\"\n",
    "    ),\n",
    "    expected_output=\"A well-written blog post \"\n",
    "        \"in markdown format, ready for publication, \"\n",
    "        \"each section should have 2 or 3 paragraphs.\",\n",
    "    agent=writer,\n",
    ")"
   ]
  },
  {
   "cell_type": "markdown",
   "metadata": {},
   "source": [
    "### Task: Edit"
   ]
  },
  {
   "cell_type": "code",
   "execution_count": 9,
   "metadata": {
    "height": 166
   },
   "outputs": [],
   "source": [
    "edit = Task(\n",
    "    description=(\"Proofread the given blog post for \"\n",
    "                 \"grammatical errors and \"\n",
    "                 \"alignment with the brand's voice.\"),\n",
    "    expected_output=\"A well-written blog post in markdown format, \"\n",
    "                    \"ready for publication, \"\n",
    "                    \"each section should have 2 or 3 paragraphs.\",\n",
    "    agent=editor\n",
    ")"
   ]
  },
  {
   "cell_type": "markdown",
   "metadata": {},
   "source": [
    "## Creating the Crew\n",
    "\n",
    "- Create your crew of Agents\n",
    "- Pass the tasks to be performed by those agents.\n",
    "    - **Note**: *For this simple example*, the tasks will be performed sequentially (i.e they are dependent on each other), so the _order_ of the task in the list _matters_.\n",
    "- `verbose=2` allows you to see all the logs of the execution. "
   ]
  },
  {
   "cell_type": "code",
   "execution_count": 10,
   "metadata": {
    "height": 98
   },
   "outputs": [],
   "source": [
    "crew = Crew(\n",
    "    agents=[planner, writer, editor],\n",
    "    tasks=[plan, write, edit],\n",
    "    verbose=2\n",
    ")"
   ]
  },
  {
   "cell_type": "markdown",
   "metadata": {},
   "source": [
    "## Running the Crew"
   ]
  },
  {
   "cell_type": "markdown",
   "metadata": {},
   "source": [
    "**Note**: LLMs can provide different outputs for they same input, so what you get might be different than what you see in the video."
   ]
  },
  {
   "cell_type": "code",
   "execution_count": 11,
   "metadata": {
    "height": 30
   },
   "outputs": [
    {
     "name": "stdout",
     "output_type": "stream",
     "text": [
      "\u001b[1m\u001b[95m [DEBUG]: == Working Agent: Content Planner\u001b[00m\n",
      "\u001b[1m\u001b[95m [INFO]: == Starting Task: 1. Prioritize the latest trends, key players, and noteworthy news on Artificial Intelligence.\n",
      "2. Identify the target audience, considering their interests and pain points.\n",
      "3. Develop a detailed content outline including an introduction, key points, and a call to action.\n",
      "4. Include SEO keywords and relevant data or sources.\u001b[00m\n",
      "\n",
      "\n",
      "\u001b[1m> Entering new CrewAgentExecutor chain...\u001b[0m\n",
      "\u001b[32;1m\u001b[1;3mI now can give a great answer\n",
      "\n",
      "Final Answer: \n",
      "\n",
      "Content Plan Document\n",
      "\n",
      "Title: The Future of Artificial Intelligence: Trends, Players, and News\n",
      "\n",
      "Outline:\n",
      "I. Introduction\n",
      "- Definition of Artificial Intelligence\n",
      "- Importance of AI in today's world\n",
      "- Brief overview of the latest trends in AI\n",
      "\n",
      "II. Latest Trends in Artificial Intelligence\n",
      "- Machine learning advancements\n",
      "- Natural language processing developments\n",
      "- AI in healthcare and medicine\n",
      "- Ethics and AI\n",
      "\n",
      "III. Key Players in the AI Industry\n",
      "- Google\n",
      "- Amazon\n",
      "- Microsoft\n",
      "- IBM\n",
      "- Tesla\n",
      "\n",
      "IV. Noteworthy News in Artificial Intelligence\n",
      "- Recent AI breakthroughs\n",
      "- AI applications in various industries\n",
      "- AI regulation updates\n",
      "\n",
      "V. Target Audience Analysis\n",
      "- Tech enthusiasts\n",
      "- Business professionals looking to implement AI\n",
      "- Students studying AI or related fields\n",
      "- Anyone interested in the future of technology\n",
      "\n",
      "VI. SEO Keywords\n",
      "- Artificial Intelligence trends 2021\n",
      "- Key players in AI industry\n",
      "- Latest news on AI\n",
      "- Artificial Intelligence developments\n",
      "\n",
      "VII. Resources\n",
      "- Forbes article on AI trends\n",
      "- TechCrunch report on key players in AI\n",
      "- AI Ethics guidelines from IEEE\n",
      "- Research papers on recent AI advancements\n",
      "\n",
      "Call to Action:\n",
      "Stay informed about the latest trends and developments in Artificial Intelligence by following reputable sources and staying engaged with the AI community. Embrace the potential of AI to transform industries and improve our daily lives.\n",
      "\n",
      "This content plan provides a comprehensive overview of the latest trends, key players, and noteworthy news in the field of Artificial Intelligence. By focusing on engaging the target audience with relevant information and incorporating SEO keywords, this blog article aims to educate and inform readers about the exciting advancements and potential of AI.\u001b[0m\n",
      "\n",
      "\u001b[1m> Finished chain.\u001b[0m\n",
      "\u001b[1m\u001b[92m [DEBUG]: == [Content Planner] Task output: Content Plan Document\n",
      "\n",
      "Title: The Future of Artificial Intelligence: Trends, Players, and News\n",
      "\n",
      "Outline:\n",
      "I. Introduction\n",
      "- Definition of Artificial Intelligence\n",
      "- Importance of AI in today's world\n",
      "- Brief overview of the latest trends in AI\n",
      "\n",
      "II. Latest Trends in Artificial Intelligence\n",
      "- Machine learning advancements\n",
      "- Natural language processing developments\n",
      "- AI in healthcare and medicine\n",
      "- Ethics and AI\n",
      "\n",
      "III. Key Players in the AI Industry\n",
      "- Google\n",
      "- Amazon\n",
      "- Microsoft\n",
      "- IBM\n",
      "- Tesla\n",
      "\n",
      "IV. Noteworthy News in Artificial Intelligence\n",
      "- Recent AI breakthroughs\n",
      "- AI applications in various industries\n",
      "- AI regulation updates\n",
      "\n",
      "V. Target Audience Analysis\n",
      "- Tech enthusiasts\n",
      "- Business professionals looking to implement AI\n",
      "- Students studying AI or related fields\n",
      "- Anyone interested in the future of technology\n",
      "\n",
      "VI. SEO Keywords\n",
      "- Artificial Intelligence trends 2021\n",
      "- Key players in AI industry\n",
      "- Latest news on AI\n",
      "- Artificial Intelligence developments\n",
      "\n",
      "VII. Resources\n",
      "- Forbes article on AI trends\n",
      "- TechCrunch report on key players in AI\n",
      "- AI Ethics guidelines from IEEE\n",
      "- Research papers on recent AI advancements\n",
      "\n",
      "Call to Action:\n",
      "Stay informed about the latest trends and developments in Artificial Intelligence by following reputable sources and staying engaged with the AI community. Embrace the potential of AI to transform industries and improve our daily lives.\n",
      "\n",
      "This content plan provides a comprehensive overview of the latest trends, key players, and noteworthy news in the field of Artificial Intelligence. By focusing on engaging the target audience with relevant information and incorporating SEO keywords, this blog article aims to educate and inform readers about the exciting advancements and potential of AI.\n",
      "\n",
      "\u001b[00m\n",
      "\u001b[1m\u001b[95m [DEBUG]: == Working Agent: Content Writer\u001b[00m\n",
      "\u001b[1m\u001b[95m [INFO]: == Starting Task: 1. Use the content plan to craft a compelling blog post on Artificial Intelligence.\n",
      "2. Incorporate SEO keywords naturally.\n",
      "3. Sections/Subtitles are properly named in an engaging manner.\n",
      "4. Ensure the post is structured with an engaging introduction, insightful body, and a summarizing conclusion.\n",
      "5. Proofread for grammatical errors and alignment with the brand's voice.\n",
      "\u001b[00m\n",
      "\n",
      "\n",
      "\u001b[1m> Entering new CrewAgentExecutor chain...\u001b[0m\n",
      "\u001b[32;1m\u001b[1;3mI now can give a great answer\n",
      "\n",
      "Final Answer:\n",
      "\n",
      "# The Future of Artificial Intelligence: Trends, Players, and News\n",
      "\n",
      "## Introduction\n",
      "Artificial Intelligence (AI) has become an integral part of today's world, revolutionizing industries and shaping the way we interact with technology. Defined as the simulation of human intelligence processes by machines, AI plays a crucial role in enhancing efficiency, accuracy, and innovation across various sectors. The latest trends in AI showcase the rapid advancements in machine learning, natural language processing, healthcare, and ethics, highlighting the transformative impact of AI on society.\n",
      "\n",
      "## Latest Trends in Artificial Intelligence\n",
      "Machine learning continues to be a driving force behind AI advancements, enabling machines to learn from data and make informed decisions without explicit programming. Natural language processing developments have also gained momentum, with AI-powered systems understanding and generating human language with increasing accuracy. In healthcare and medicine, AI is being utilized for diagnosis, treatment optimization, and personalized medicine, revolutionizing patient care. The ethical implications of AI have also come to the forefront, prompting discussions on responsible AI development and deployment.\n",
      "\n",
      "## Key Players in the AI Industry\n",
      "Leading the AI industry are tech giants such as Google, Amazon, Microsoft, IBM, and Tesla, each contributing to the evolution of AI technologies and applications. Google's deep learning algorithms power various AI products, while Amazon's AI-driven recommendation systems enhance customer experiences. Microsoft's AI initiatives span across productivity tools and cloud services, while IBM focuses on AI-powered solutions for businesses. Tesla's self-driving technology exemplifies the potential of AI in the automotive industry, showcasing the versatility of AI applications.\n",
      "\n",
      "## Noteworthy News in Artificial Intelligence\n",
      "Recent breakthroughs in AI include advancements in neural networks, reinforcement learning, and computer vision, expanding the capabilities of AI systems. AI applications in various industries, such as finance, retail, and transportation, demonstrate the diverse ways AI is driving innovation and efficiency. Updates on AI regulations aim to ensure transparency, accountability, and fairness in AI systems, addressing concerns about bias, privacy, and societal impact.\n",
      "\n",
      "## Target Audience Analysis\n",
      "Tech enthusiasts, business professionals, students, and anyone interested in the future of technology can benefit from staying informed about AI trends, key players, and latest news. By following reputable sources and engaging with the AI community, individuals can explore the potential of AI to transform industries, improve daily lives, and address societal challenges.\n",
      "\n",
      "In conclusion, Artificial Intelligence continues to shape the future of technology, with ongoing advancements, key players, and noteworthy news driving innovation and progress. By embracing the potential of AI and staying informed about the latest trends, individuals can participate in the exciting developments and opportunities that AI offers.\n",
      "\n",
      "*Stay informed about the latest trends and developments in Artificial Intelligence by following reputable sources and staying engaged with the AI community. Embrace the potential of AI to transform industries and improve our daily lives.*\u001b[0m\n",
      "\n",
      "\u001b[1m> Finished chain.\u001b[0m\n",
      "\u001b[1m\u001b[92m [DEBUG]: == [Content Writer] Task output: # The Future of Artificial Intelligence: Trends, Players, and News\n",
      "\n",
      "## Introduction\n",
      "Artificial Intelligence (AI) has become an integral part of today's world, revolutionizing industries and shaping the way we interact with technology. Defined as the simulation of human intelligence processes by machines, AI plays a crucial role in enhancing efficiency, accuracy, and innovation across various sectors. The latest trends in AI showcase the rapid advancements in machine learning, natural language processing, healthcare, and ethics, highlighting the transformative impact of AI on society.\n",
      "\n",
      "## Latest Trends in Artificial Intelligence\n",
      "Machine learning continues to be a driving force behind AI advancements, enabling machines to learn from data and make informed decisions without explicit programming. Natural language processing developments have also gained momentum, with AI-powered systems understanding and generating human language with increasing accuracy. In healthcare and medicine, AI is being utilized for diagnosis, treatment optimization, and personalized medicine, revolutionizing patient care. The ethical implications of AI have also come to the forefront, prompting discussions on responsible AI development and deployment.\n",
      "\n",
      "## Key Players in the AI Industry\n",
      "Leading the AI industry are tech giants such as Google, Amazon, Microsoft, IBM, and Tesla, each contributing to the evolution of AI technologies and applications. Google's deep learning algorithms power various AI products, while Amazon's AI-driven recommendation systems enhance customer experiences. Microsoft's AI initiatives span across productivity tools and cloud services, while IBM focuses on AI-powered solutions for businesses. Tesla's self-driving technology exemplifies the potential of AI in the automotive industry, showcasing the versatility of AI applications.\n",
      "\n",
      "## Noteworthy News in Artificial Intelligence\n",
      "Recent breakthroughs in AI include advancements in neural networks, reinforcement learning, and computer vision, expanding the capabilities of AI systems. AI applications in various industries, such as finance, retail, and transportation, demonstrate the diverse ways AI is driving innovation and efficiency. Updates on AI regulations aim to ensure transparency, accountability, and fairness in AI systems, addressing concerns about bias, privacy, and societal impact.\n",
      "\n",
      "## Target Audience Analysis\n",
      "Tech enthusiasts, business professionals, students, and anyone interested in the future of technology can benefit from staying informed about AI trends, key players, and latest news. By following reputable sources and engaging with the AI community, individuals can explore the potential of AI to transform industries, improve daily lives, and address societal challenges.\n",
      "\n",
      "In conclusion, Artificial Intelligence continues to shape the future of technology, with ongoing advancements, key players, and noteworthy news driving innovation and progress. By embracing the potential of AI and staying informed about the latest trends, individuals can participate in the exciting developments and opportunities that AI offers.\n",
      "\n",
      "*Stay informed about the latest trends and developments in Artificial Intelligence by following reputable sources and staying engaged with the AI community. Embrace the potential of AI to transform industries and improve our daily lives.*\n",
      "\n",
      "\u001b[00m\n",
      "\u001b[1m\u001b[95m [DEBUG]: == Working Agent: Editor\u001b[00m\n",
      "\u001b[1m\u001b[95m [INFO]: == Starting Task: Proofread the given blog post for grammatical errors and alignment with the brand's voice.\u001b[00m\n",
      "\n",
      "\n",
      "\u001b[1m> Entering new CrewAgentExecutor chain...\u001b[0m\n"
     ]
    },
    {
     "name": "stdout",
     "output_type": "stream",
     "text": [
      "\u001b[32;1m\u001b[1;3mI now can give a great answer\n",
      "\n",
      "Final Answer:\n",
      "# The Future of Artificial Intelligence: Trends, Players, and News\n",
      "\n",
      "## Introduction\n",
      "Artificial Intelligence (AI) has become an integral part of today's world, revolutionizing industries and shaping the way we interact with technology. Defined as the simulation of human intelligence processes by machines, AI plays a crucial role in enhancing efficiency, accuracy, and innovation across various sectors. The latest trends in AI showcase the rapid advancements in machine learning, natural language processing, healthcare, and ethics, highlighting the transformative impact of AI on society.\n",
      "\n",
      "## Latest Trends in Artificial Intelligence\n",
      "Machine learning continues to be a driving force behind AI advancements, enabling machines to learn from data and make informed decisions without explicit programming. Natural language processing developments have also gained momentum, with AI-powered systems understanding and generating human language with increasing accuracy. In healthcare and medicine, AI is being utilized for diagnosis, treatment optimization, and personalized medicine, revolutionizing patient care. The ethical implications of AI have also come to the forefront, prompting discussions on responsible AI development and deployment.\n",
      "\n",
      "## Key Players in the AI Industry\n",
      "Leading the AI industry are tech giants such as Google, Amazon, Microsoft, IBM, and Tesla, each contributing to the evolution of AI technologies and applications. Google's deep learning algorithms power various AI products, while Amazon's AI-driven recommendation systems enhance customer experiences. Microsoft's AI initiatives span across productivity tools and cloud services, while IBM focuses on AI-powered solutions for businesses. Tesla's self-driving technology exemplifies the potential of AI in the automotive industry, showcasing the versatility of AI applications.\n",
      "\n",
      "## Noteworthy News in Artificial Intelligence\n",
      "Recent breakthroughs in AI include advancements in neural networks, reinforcement learning, and computer vision, expanding the capabilities of AI systems. AI applications in various industries, such as finance, retail, and transportation, demonstrate the diverse ways AI is driving innovation and efficiency. Updates on AI regulations aim to ensure transparency, accountability, and fairness in AI systems, addressing concerns about bias, privacy, and societal impact.\n",
      "\n",
      "## Target Audience Analysis\n",
      "Tech enthusiasts, business professionals, students, and anyone interested in the future of technology can benefit from staying informed about AI trends, key players, and latest news. By following reputable sources and engaging with the AI community, individuals can explore the potential of AI to transform industries, improve daily lives, and address societal challenges.\n",
      "\n",
      "In conclusion, Artificial Intelligence continues to shape the future of technology, with ongoing advancements, key players, and noteworthy news driving innovation and progress. By embracing the potential of AI and staying informed about the latest trends, individuals can participate in the exciting developments and opportunities that AI offers.\n",
      "\n",
      "*Stay informed about the latest trends and developments in Artificial Intelligence by following reputable sources and staying engaged with the AI community. Embrace the potential of AI to transform industries and improve our daily lives.*\u001b[0m\n",
      "\n",
      "\u001b[1m> Finished chain.\u001b[0m\n",
      "\u001b[1m\u001b[92m [DEBUG]: == [Editor] Task output: # The Future of Artificial Intelligence: Trends, Players, and News\n",
      "\n",
      "## Introduction\n",
      "Artificial Intelligence (AI) has become an integral part of today's world, revolutionizing industries and shaping the way we interact with technology. Defined as the simulation of human intelligence processes by machines, AI plays a crucial role in enhancing efficiency, accuracy, and innovation across various sectors. The latest trends in AI showcase the rapid advancements in machine learning, natural language processing, healthcare, and ethics, highlighting the transformative impact of AI on society.\n",
      "\n",
      "## Latest Trends in Artificial Intelligence\n",
      "Machine learning continues to be a driving force behind AI advancements, enabling machines to learn from data and make informed decisions without explicit programming. Natural language processing developments have also gained momentum, with AI-powered systems understanding and generating human language with increasing accuracy. In healthcare and medicine, AI is being utilized for diagnosis, treatment optimization, and personalized medicine, revolutionizing patient care. The ethical implications of AI have also come to the forefront, prompting discussions on responsible AI development and deployment.\n",
      "\n",
      "## Key Players in the AI Industry\n",
      "Leading the AI industry are tech giants such as Google, Amazon, Microsoft, IBM, and Tesla, each contributing to the evolution of AI technologies and applications. Google's deep learning algorithms power various AI products, while Amazon's AI-driven recommendation systems enhance customer experiences. Microsoft's AI initiatives span across productivity tools and cloud services, while IBM focuses on AI-powered solutions for businesses. Tesla's self-driving technology exemplifies the potential of AI in the automotive industry, showcasing the versatility of AI applications.\n",
      "\n",
      "## Noteworthy News in Artificial Intelligence\n",
      "Recent breakthroughs in AI include advancements in neural networks, reinforcement learning, and computer vision, expanding the capabilities of AI systems. AI applications in various industries, such as finance, retail, and transportation, demonstrate the diverse ways AI is driving innovation and efficiency. Updates on AI regulations aim to ensure transparency, accountability, and fairness in AI systems, addressing concerns about bias, privacy, and societal impact.\n",
      "\n",
      "## Target Audience Analysis\n",
      "Tech enthusiasts, business professionals, students, and anyone interested in the future of technology can benefit from staying informed about AI trends, key players, and latest news. By following reputable sources and engaging with the AI community, individuals can explore the potential of AI to transform industries, improve daily lives, and address societal challenges.\n",
      "\n",
      "In conclusion, Artificial Intelligence continues to shape the future of technology, with ongoing advancements, key players, and noteworthy news driving innovation and progress. By embracing the potential of AI and staying informed about the latest trends, individuals can participate in the exciting developments and opportunities that AI offers.\n",
      "\n",
      "*Stay informed about the latest trends and developments in Artificial Intelligence by following reputable sources and staying engaged with the AI community. Embrace the potential of AI to transform industries and improve our daily lives.*\n",
      "\n",
      "\u001b[00m\n"
     ]
    }
   ],
   "source": [
    "result = crew.kickoff(inputs={\"topic\": \"Artificial Intelligence\"})"
   ]
  },
  {
   "cell_type": "markdown",
   "metadata": {},
   "source": [
    "- Display the results of your execution as markdown in the notebook."
   ]
  },
  {
   "cell_type": "code",
   "execution_count": 12,
   "metadata": {
    "height": 47
   },
   "outputs": [
    {
     "data": {
      "text/markdown": [
       "# The Future of Artificial Intelligence: Trends, Players, and News\n",
       "\n",
       "## Introduction\n",
       "Artificial Intelligence (AI) has become an integral part of today's world, revolutionizing industries and shaping the way we interact with technology. Defined as the simulation of human intelligence processes by machines, AI plays a crucial role in enhancing efficiency, accuracy, and innovation across various sectors. The latest trends in AI showcase the rapid advancements in machine learning, natural language processing, healthcare, and ethics, highlighting the transformative impact of AI on society.\n",
       "\n",
       "## Latest Trends in Artificial Intelligence\n",
       "Machine learning continues to be a driving force behind AI advancements, enabling machines to learn from data and make informed decisions without explicit programming. Natural language processing developments have also gained momentum, with AI-powered systems understanding and generating human language with increasing accuracy. In healthcare and medicine, AI is being utilized for diagnosis, treatment optimization, and personalized medicine, revolutionizing patient care. The ethical implications of AI have also come to the forefront, prompting discussions on responsible AI development and deployment.\n",
       "\n",
       "## Key Players in the AI Industry\n",
       "Leading the AI industry are tech giants such as Google, Amazon, Microsoft, IBM, and Tesla, each contributing to the evolution of AI technologies and applications. Google's deep learning algorithms power various AI products, while Amazon's AI-driven recommendation systems enhance customer experiences. Microsoft's AI initiatives span across productivity tools and cloud services, while IBM focuses on AI-powered solutions for businesses. Tesla's self-driving technology exemplifies the potential of AI in the automotive industry, showcasing the versatility of AI applications.\n",
       "\n",
       "## Noteworthy News in Artificial Intelligence\n",
       "Recent breakthroughs in AI include advancements in neural networks, reinforcement learning, and computer vision, expanding the capabilities of AI systems. AI applications in various industries, such as finance, retail, and transportation, demonstrate the diverse ways AI is driving innovation and efficiency. Updates on AI regulations aim to ensure transparency, accountability, and fairness in AI systems, addressing concerns about bias, privacy, and societal impact.\n",
       "\n",
       "## Target Audience Analysis\n",
       "Tech enthusiasts, business professionals, students, and anyone interested in the future of technology can benefit from staying informed about AI trends, key players, and latest news. By following reputable sources and engaging with the AI community, individuals can explore the potential of AI to transform industries, improve daily lives, and address societal challenges.\n",
       "\n",
       "In conclusion, Artificial Intelligence continues to shape the future of technology, with ongoing advancements, key players, and noteworthy news driving innovation and progress. By embracing the potential of AI and staying informed about the latest trends, individuals can participate in the exciting developments and opportunities that AI offers.\n",
       "\n",
       "*Stay informed about the latest trends and developments in Artificial Intelligence by following reputable sources and staying engaged with the AI community. Embrace the potential of AI to transform industries and improve our daily lives.*"
      ],
      "text/plain": [
       "<IPython.core.display.Markdown object>"
      ]
     },
     "execution_count": 12,
     "metadata": {},
     "output_type": "execute_result"
    }
   ],
   "source": [
    "from IPython.display import Markdown\n",
    "Markdown(result)"
   ]
  },
  {
   "cell_type": "markdown",
   "metadata": {},
   "source": [
    "## Try it Yourself\n",
    "\n",
    "- Pass in a topic of your choice and see what the agents come up with!"
   ]
  },
  {
   "cell_type": "code",
   "execution_count": null,
   "metadata": {
    "height": 47
   },
   "outputs": [
    {
     "name": "stdout",
     "output_type": "stream",
     "text": [
      "\u001b[1m\u001b[95m [DEBUG]: == Working Agent: Content Planner\u001b[00m\n",
      "\u001b[1m\u001b[95m [INFO]: == Starting Task: 1. Prioritize the latest trends, key players, and noteworthy news on YOUR TOPIC HERE.\n",
      "2. Identify the target audience, considering their interests and pain points.\n",
      "3. Develop a detailed content outline including an introduction, key points, and a call to action.\n",
      "4. Include SEO keywords and relevant data or sources.\u001b[00m\n",
      "\n",
      "\n",
      "\u001b[1m> Entering new CrewAgentExecutor chain...\u001b[0m\n"
     ]
    }
   ],
   "source": [
    "topic = \"YOUR TOPIC HERE\"\n",
    "result = crew.kickoff(inputs={\"topic\": topic})"
   ]
  },
  {
   "cell_type": "code",
   "execution_count": null,
   "metadata": {
    "height": 30
   },
   "outputs": [],
   "source": [
    "Markdown(result)"
   ]
  },
  {
   "cell_type": "markdown",
   "metadata": {},
   "source": [
    "<a name='1'></a>\n",
    " ## Other Popular Models as LLM for your Agents"
   ]
  },
  {
   "cell_type": "markdown",
   "metadata": {},
   "source": [
    "#### Hugging Face (HuggingFaceHub endpoint)\n",
    "\n",
    "```Python\n",
    "from langchain_community.llms import HuggingFaceHub\n",
    "\n",
    "llm = HuggingFaceHub(\n",
    "    repo_id=\"HuggingFaceH4/zephyr-7b-beta\",\n",
    "    huggingfacehub_api_token=\"<HF_TOKEN_HERE>\",\n",
    "    task=\"text-generation\",\n",
    ")\n",
    "\n",
    "### you will pass \"llm\" to your agent function\n",
    "```"
   ]
  },
  {
   "cell_type": "markdown",
   "metadata": {},
   "source": [
    "#### Mistral API\n",
    "\n",
    "```Python\n",
    "OPENAI_API_KEY=your-mistral-api-key\n",
    "OPENAI_API_BASE=https://api.mistral.ai/v1\n",
    "OPENAI_MODEL_NAME=\"mistral-small\"\n",
    "```"
   ]
  },
  {
   "cell_type": "markdown",
   "metadata": {},
   "source": [
    "#### Cohere\n",
    "\n",
    "```Python\n",
    "from langchain_community.chat_models import ChatCohere\n",
    "# Initialize language model\n",
    "os.environ[\"COHERE_API_KEY\"] = \"your-cohere-api-key\"\n",
    "llm = ChatCohere()\n",
    "\n",
    "### you will pass \"llm\" to your agent function\n",
    "```"
   ]
  },
  {
   "cell_type": "markdown",
   "metadata": {},
   "source": [
    "### For using Llama locally with Ollama and more, checkout the crewAI documentation on [Connecting to any LLM](https://docs.crewai.com/how-to/LLM-Connections/)."
   ]
  },
  {
   "cell_type": "code",
   "execution_count": null,
   "metadata": {
    "height": 30
   },
   "outputs": [],
   "source": []
  },
  {
   "cell_type": "code",
   "execution_count": null,
   "metadata": {
    "height": 30
   },
   "outputs": [],
   "source": []
  },
  {
   "cell_type": "code",
   "execution_count": null,
   "metadata": {
    "height": 30
   },
   "outputs": [],
   "source": []
  }
 ],
 "metadata": {
  "colab": {
   "gpuType": "T4",
   "provenance": []
  },
  "kernelspec": {
   "display_name": "Python 3 (ipykernel)",
   "language": "python",
   "name": "python3"
  },
  "language_info": {
   "codemirror_mode": {
    "name": "ipython",
    "version": 3
   },
   "file_extension": ".py",
   "mimetype": "text/x-python",
   "name": "python",
   "nbconvert_exporter": "python",
   "pygments_lexer": "ipython3",
   "version": "3.11.9"
  }
 },
 "nbformat": 4,
 "nbformat_minor": 4
}
